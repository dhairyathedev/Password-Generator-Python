{
  "nbformat": 4,
  "nbformat_minor": 0,
  "metadata": {
    "colab": {
      "name": "Password_Generator.ipynb",
      "provenance": []
    },
    "kernelspec": {
      "name": "python3",
      "display_name": "Python 3"
    },
    "language_info": {
      "name": "python"
    }
  },
  "cells": [
    {
      "cell_type": "code",
      "execution_count": 10,
      "metadata": {
        "colab": {
          "base_uri": "https://localhost:8080/"
        },
        "id": "OgxxCw6aXt2U",
        "outputId": "f9000732-a4e5-412d-d3ee-3b407a6a468d"
      },
      "outputs": [
        {
          "output_type": "stream",
          "name": "stdout",
          "text": [
            "Enter a lenght for a password: 18\n",
            "rH4r5YYec9TRxgHrU1\n"
          ]
        }
      ],
      "source": [
        "import string\n",
        "import random\n",
        "characters = list(string.ascii_letters + string.digits + \"!@#$%^&*()\")\n",
        "\n",
        "def password():\n",
        "  length = int(input(\"Enter a lenght for a password: \"))\n",
        "\n",
        "  random.shuffle(characters)\n",
        "\n",
        "  password = []\n",
        "  for i in range(length):\n",
        "    password.append(random.choice(characters))\n",
        "  \n",
        "  random.shuffle(password)\n",
        "\n",
        "  print(\"\".join(password))\n",
        "\n",
        "password()"
      ]
    }
  ]
}